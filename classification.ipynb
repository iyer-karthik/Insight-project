{
 "cells": [
  {
   "cell_type": "code",
   "execution_count": 1,
   "metadata": {},
   "outputs": [
    {
     "data": {
      "text/html": [
       "<style>\n",
       "\n",
       "html {\n",
       "  font-size: 62.5% !important; }\n",
       "body {\n",
       "  font-size: 1.5em !important; /* currently ems cause chrome bug misinterpreting rems on body element */\n",
       "  line-height: 1.6 !important;\n",
       "  font-weight: 400 !important;\n",
       "  font-family: \"Raleway\", \"HelveticaNeue\", \"Helvetica Neue\", Helvetica, Arial, sans-serif !important;\n",
       "  color: #222 !important; }\n",
       "\n",
       "div{ border-radius: 0px !important;  }\n",
       "div.CodeMirror-sizer{ background: rgb(244, 244, 248) !important; }\n",
       "div.input_area{ background: rgb(244, 244, 248) !important; }\n",
       "\n",
       "div.out_prompt_overlay:hover{ background: rgb(244, 244, 248) !important; }\n",
       "div.input_prompt:hover{ background: rgb(244, 244, 248) !important; }\n",
       "\n",
       "h1, h2, h3, h4, h5, h6 {\n",
       "  color: #333 !important;\n",
       "  margin-top: 0 !important;\n",
       "  margin-bottom: 2rem !important;\n",
       "  font-weight: 300 !important; }\n",
       "h1 { font-size: 4.0rem !important; line-height: 1.2 !important;  letter-spacing: -.1rem !important;}\n",
       "h2 { font-size: 3.6rem !important; line-height: 1.25 !important; letter-spacing: -.1rem !important; }\n",
       "h3 { font-size: 3.0rem !important; line-height: 1.3 !important;  letter-spacing: -.1rem !important; }\n",
       "h4 { font-size: 2.4rem !important; line-height: 1.35 !important; letter-spacing: -.08rem !important; }\n",
       "h5 { font-size: 1.8rem !important; line-height: 1.5 !important;  letter-spacing: -.05rem !important; }\n",
       "h6 { font-size: 1.5rem !important; line-height: 1.6 !important;  letter-spacing: 0 !important; }\n",
       "\n",
       "@media (min-width: 550px) {\n",
       "  h1 { font-size: 5.0rem !important; }\n",
       "  h2 { font-size: 4.2rem !important; }\n",
       "  h3 { font-size: 3.6rem !important; }\n",
       "  h4 { font-size: 3.0rem !important; }\n",
       "  h5 { font-size: 2.4rem !important; }\n",
       "  h6 { font-size: 1.5rem !important; }\n",
       "}\n",
       "\n",
       "p {\n",
       "  margin-top: 0 !important; }\n",
       "  \n",
       "a {\n",
       "  color: #1EAEDB !important; }\n",
       "a:hover {\n",
       "  color: #0FA0CE !important; }\n",
       "  \n",
       "code {\n",
       "  padding: .2rem .5rem !important;\n",
       "  margin: 0 .2rem !important;\n",
       "  font-size: 90% !important;\n",
       "  white-space: nowrap !important;\n",
       "  background: #F1F1F1 !important;\n",
       "  border: 1px solid #E1E1E1 !important;\n",
       "  border-radius: 4px !important; }\n",
       "pre > code {\n",
       "  display: block !important;\n",
       "  padding: 1rem 1.5rem !important;\n",
       "  white-space: pre !important; }\n",
       "  \n",
       "button{ border-radius: 0px !important; }\n",
       ".navbar-inner{ background-image: none !important;  }\n",
       "select, textarea{ border-radius: 0px !important; }\n",
       "\n",
       "</style>"
      ],
      "text/plain": [
       "<IPython.core.display.HTML object>"
      ]
     },
     "execution_count": 1,
     "metadata": {},
     "output_type": "execute_result"
    }
   ],
   "source": [
    "from IPython.core.display import HTML\n",
    "import urllib.request\n",
    "HTML(urllib.request.urlopen('http://bit.ly/1Bf5Hft').read().decode('utf-8'))"
   ]
  },
  {
   "cell_type": "code",
   "execution_count": 40,
   "metadata": {},
   "outputs": [],
   "source": [
    "import pandas as pd \n",
    "import numpy as np\n",
    "import time\n",
    "\n",
    "# Preprocessing\n",
    "from sklearn.preprocessing import MinMaxScaler\n",
    "\n",
    "# Machine Learning \n",
    "from sklearn.pipeline import Pipeline\n",
    "from sklearn.svm import LinearSVC\n",
    "from sklearn.linear_model import LogisticRegression\n",
    "from sklearn.model_selection import train_test_split, GridSearchCV\n",
    "from sklearn.model_selection import StratifiedShuffleSplit\n",
    "from sklearn.linear_model import SGDClassifier\n",
    "from sklearn.ensemble import ExtraTreesClassifier\n",
    "from sklearn.ensemble import RandomForestClassifier\n",
    "import itertools\n",
    "\n",
    "# Metrics\n",
    "from sklearn.metrics import confusion_matrix, roc_curve, precision_recall_curve, roc_auc_score, recall_score, classification_report\n",
    "\n",
    "# Plotting \n",
    "import matplotlib.pyplot as plt\n",
    "import seaborn as sns\n",
    "plt.style.use('fivethirtyeight')\n",
    "%matplotlib inline\n",
    "\n",
    "# Supress warnings\n",
    "import warnings; warnings.simplefilter('ignore')"
   ]
  },
  {
   "cell_type": "code",
   "execution_count": 3,
   "metadata": {},
   "outputs": [],
   "source": [
    "df = pd.read_pickle('agg_data/classfication_df.pkl') "
   ]
  },
  {
   "cell_type": "markdown",
   "metadata": {},
   "source": [
    "#### Table of contents\n",
    "\n",
    "\n",
    "##### [Feature engineering](#dimensionality_reduction)\n",
    "\n",
    "##### [Training, validation & testing](#training)\n",
    "\n",
    "##### [Performance comparison](#performance)\n",
    "\n",
    "##### [Conclusion](#conclusion)\n"
   ]
  },
  {
   "cell_type": "markdown",
   "metadata": {},
   "source": [
    "Let's first take a look at the data and perform feature selection."
   ]
  },
  {
   "cell_type": "markdown",
   "metadata": {},
   "source": [
    "### Feature engineering<a id='dimensionality_reduction'></a>\n"
   ]
  },
  {
   "cell_type": "code",
   "execution_count": 4,
   "metadata": {},
   "outputs": [
    {
     "name": "stdout",
     "output_type": "stream",
     "text": [
      "<class 'pandas.core.frame.DataFrame'>\n",
      "RangeIndex: 423844 entries, 0 to 423843\n",
      "Data columns (total 47 columns):\n",
      "loan_amnt                     423844 non-null int64\n",
      "funded_amnt                   423844 non-null int64\n",
      "funded_amnt_inv               423844 non-null float64\n",
      "term                          423844 non-null int64\n",
      "int_rate                      423844 non-null float64\n",
      "installment                   423844 non-null float64\n",
      "grade                         423844 non-null object\n",
      "sub_grade                     423844 non-null object\n",
      "emp_length                    423844 non-null float64\n",
      "home_ownership                423844 non-null object\n",
      "annual_inc                    423844 non-null float64\n",
      "verification_status           423844 non-null object\n",
      "loan_status                   423844 non-null object\n",
      "purpose                       423844 non-null object\n",
      "title                         423844 non-null object\n",
      "addr_state                    423844 non-null object\n",
      "dti                           423844 non-null float64\n",
      "delinq_2yrs                   423844 non-null int64\n",
      "inq_last_6mths                423844 non-null int64\n",
      "open_acc                      423844 non-null int64\n",
      "pub_rec                       423844 non-null int64\n",
      "revol_bal                     423844 non-null int64\n",
      "revol_util                    423844 non-null float64\n",
      "total_acc                     423844 non-null int64\n",
      "initial_list_status           423844 non-null object\n",
      "out_prncp                     423844 non-null float64\n",
      "out_prncp_inv                 423844 non-null float64\n",
      "total_pymnt                   423844 non-null float64\n",
      "total_pymnt_inv               423844 non-null float64\n",
      "total_rec_prncp               423844 non-null float64\n",
      "total_rec_int                 423844 non-null float64\n",
      "total_rec_late_fee            423844 non-null float64\n",
      "recoveries                    423844 non-null float64\n",
      "collection_recovery_fee       423844 non-null float64\n",
      "last_pymnt_amnt               423844 non-null float64\n",
      "collections_12_mths_ex_med    423844 non-null int64\n",
      "acc_now_delinq                423844 non-null int64\n",
      "chargeoff_within_12_mths      423844 non-null int64\n",
      "delinq_amnt                   423844 non-null int64\n",
      "pub_rec_bankruptcies          423844 non-null int64\n",
      "tax_liens                     423844 non-null int64\n",
      "credit_age                    423844 non-null float64\n",
      "title_word_count              423844 non-null int64\n",
      "title_polarity                423844 non-null float64\n",
      "title_subjectivity            423844 non-null float64\n",
      "title_length                  423844 non-null int64\n",
      "lti                           423844 non-null float64\n",
      "dtypes: float64(21), int64(17), object(9)\n",
      "memory usage: 152.0+ MB\n"
     ]
    }
   ],
   "source": [
    "df.info()"
   ]
  },
  {
   "cell_type": "markdown",
   "metadata": {},
   "source": [
    "The goal of this analysis is to predict which loans will default. We set it up as a binary classfication problem with label being `loan_status`. We will only consider completed loans and loans which have either been paid off or have been charged off. "
   ]
  },
  {
   "cell_type": "code",
   "execution_count": 5,
   "metadata": {},
   "outputs": [],
   "source": [
    "df = df[(df[\"loan_status\"] == \"Fully Paid\") |\n",
    "                            (df[\"loan_status\"] == \"Charged Off\")]\n"
   ]
  },
  {
   "cell_type": "markdown",
   "metadata": {},
   "source": [
    "Let's pay attention to features which leak information from the future (i.e after the loan has been funded). These features won't be available to the lender at the time of origination. We will drop them. "
   ]
  },
  {
   "cell_type": "code",
   "execution_count": 6,
   "metadata": {},
   "outputs": [],
   "source": [
    "leak_frm_ftr = ['total_pymnt', \n",
    "                'total_pymnt_inv', \n",
    "                'total_rec_prncp', \n",
    "                'total_rec_int', \n",
    "                'total_rec_late_fee', \n",
    "                'last_pymnt_amnt',\n",
    "                'out_prncp', \n",
    "                'out_prncp_inv', \n",
    "                'recoveries',                     \n",
    "                'collection_recovery_fee'\n",
    "                   ] "
   ]
  },
  {
   "cell_type": "code",
   "execution_count": 7,
   "metadata": {},
   "outputs": [],
   "source": [
    "df.drop(leak_frm_ftr, axis=1, inplace=True)"
   ]
  },
  {
   "cell_type": "markdown",
   "metadata": {},
   "source": [
    "Let us now focus on another category, state of address of the borrower. Let's see how many unique states are there in the dataset."
   ]
  },
  {
   "cell_type": "code",
   "execution_count": 8,
   "metadata": {},
   "outputs": [
    {
     "data": {
      "text/plain": [
       "array(['FL', 'CA', 'NM', 'MI', 'NC', 'CT', 'NY', 'MA', 'CO', 'TX', 'SC',\n",
       "       'DE', 'PA', 'OH', 'UT', 'IN', 'AZ', 'NJ', 'GA', 'MO', 'IL', 'WI',\n",
       "       'WA', 'VA', 'MN', 'MD', 'KY', 'WY', 'TN', 'NV', 'NH', 'KS', 'RI',\n",
       "       'AL', 'LA', 'WV', 'OR', 'VT', 'AR', 'OK', 'HI', 'MT', 'AK', 'SD',\n",
       "       'DC', 'NE', 'IA', 'MS', 'ID', 'ME'], dtype=object)"
      ]
     },
     "execution_count": 8,
     "metadata": {},
     "output_type": "execute_result"
    }
   ],
   "source": [
    "df.addr_state.unique()"
   ]
  },
  {
   "cell_type": "markdown",
   "metadata": {},
   "source": [
    "We notice that there are 50 unique categories within this feature. This makes sense since Lending Club does not allow lending in North Dakota. \n",
    "\n",
    "My first instinct was to drop this variable altogether, because of its very broad levels. Intuitively, the state of residence of borrower is an important variable since it affects monthly income (income taxes vary by state), property taxes (and this in turn affects real estate payment) and a combination of these might influence debt-to-income ratio. The FICO score presumably should also depend on state, and as such it stands to reason that the geographical location plays a subtle and an important role in influencing other features, and eventually the chance of getting a loan originated. But, as mentioned before, there are 50 categories within this variable which will result in a marked increase in model complexity and time for training. \n",
    "\n",
    "To incorporate the effect of State on the eventual outcome, I engineered a new boolean feature `IsltiBetterThanMedian`. This is 1 if a borrower has a better than median loan-to-income ratio among all other borrowers grouped by state. I chose loan-to-income ratio to engineer this feature since it better incorporates the interaction of other features among themselves. "
   ]
  },
  {
   "cell_type": "code",
   "execution_count": 9,
   "metadata": {},
   "outputs": [],
   "source": [
    "median_lti_by_state = df.groupby(\"addr_state\")[[\"lti\"]].transform('median')[\"lti\"]\n",
    "df[\"IsltiBetterThanMedian\"] = (df[\"lti\"] > median_lti_by_state).astype(int)"
   ]
  },
  {
   "cell_type": "markdown",
   "metadata": {},
   "source": [
    "Let's now remove the State variable."
   ]
  },
  {
   "cell_type": "code",
   "execution_count": 10,
   "metadata": {},
   "outputs": [],
   "source": [
    "df.drop([\"addr_state\"], axis=1, inplace=True)"
   ]
  },
  {
   "cell_type": "code",
   "execution_count": 11,
   "metadata": {},
   "outputs": [
    {
     "name": "stdout",
     "output_type": "stream",
     "text": [
      "<class 'pandas.core.frame.DataFrame'>\n",
      "Int64Index: 397020 entries, 0 to 423842\n",
      "Data columns (total 37 columns):\n",
      "loan_amnt                     397020 non-null int64\n",
      "funded_amnt                   397020 non-null int64\n",
      "funded_amnt_inv               397020 non-null float64\n",
      "term                          397020 non-null int64\n",
      "int_rate                      397020 non-null float64\n",
      "installment                   397020 non-null float64\n",
      "grade                         397020 non-null object\n",
      "sub_grade                     397020 non-null object\n",
      "emp_length                    397020 non-null float64\n",
      "home_ownership                397020 non-null object\n",
      "annual_inc                    397020 non-null float64\n",
      "verification_status           397020 non-null object\n",
      "loan_status                   397020 non-null object\n",
      "purpose                       397020 non-null object\n",
      "title                         397020 non-null object\n",
      "dti                           397020 non-null float64\n",
      "delinq_2yrs                   397020 non-null int64\n",
      "inq_last_6mths                397020 non-null int64\n",
      "open_acc                      397020 non-null int64\n",
      "pub_rec                       397020 non-null int64\n",
      "revol_bal                     397020 non-null int64\n",
      "revol_util                    397020 non-null float64\n",
      "total_acc                     397020 non-null int64\n",
      "initial_list_status           397020 non-null object\n",
      "collections_12_mths_ex_med    397020 non-null int64\n",
      "acc_now_delinq                397020 non-null int64\n",
      "chargeoff_within_12_mths      397020 non-null int64\n",
      "delinq_amnt                   397020 non-null int64\n",
      "pub_rec_bankruptcies          397020 non-null int64\n",
      "tax_liens                     397020 non-null int64\n",
      "credit_age                    397020 non-null float64\n",
      "title_word_count              397020 non-null int64\n",
      "title_polarity                397020 non-null float64\n",
      "title_subjectivity            397020 non-null float64\n",
      "title_length                  397020 non-null int64\n",
      "lti                           397020 non-null float64\n",
      "IsltiBetterThanMedian         397020 non-null int32\n",
      "dtypes: float64(11), int32(1), int64(17), object(8)\n",
      "memory usage: 113.6+ MB\n"
     ]
    }
   ],
   "source": [
    "df.info()"
   ]
  },
  {
   "cell_type": "markdown",
   "metadata": {},
   "source": [
    "We have extracted out relevant features from loan titles. Let's drop that feature."
   ]
  },
  {
   "cell_type": "code",
   "execution_count": 12,
   "metadata": {},
   "outputs": [],
   "source": [
    "df.drop('title', axis=1, inplace=True)"
   ]
  },
  {
   "cell_type": "markdown",
   "metadata": {},
   "source": [
    "Some closely related features still remain. For instance, `total_acc`, `open_acc` are related. `pub_rec` and `pub_rec-bankruptcies` are also related and so are `acc_now_delinq` and `delinq_amnt`. Let's choose only one feature among each of these\n",
    "categories.\n",
    "<br>\n",
    "<br>\n",
    "`pub_rec` offers a more complete history of the borrower. Let's keep it. `delinq_amnt` is more indicative of future expected paymemts as compared to `acc_now_delinq`. Similarly `open_acc` would be more indicative of future payments compared to `total_acc`. `loan_amnt`, `funded_amnt` and `funded_amnt_inv` are also related. `funded_amnt` is the most relevant.Let's keep these features and drop the extraneous ones"
   ]
  },
  {
   "cell_type": "code",
   "execution_count": 13,
   "metadata": {},
   "outputs": [],
   "source": [
    "df.drop(['total_acc', 'acc_now_delinq', 'loan_amnt', 'funded_amnt_inv', 'pub_rec_bankruptcies'], axis=1, inplace=True)"
   ]
  },
  {
   "cell_type": "code",
   "execution_count": 14,
   "metadata": {},
   "outputs": [],
   "source": [
    "#df.collections_12_mths_ex_med.value_counts() <- This feature is mostly zero\n",
    "#df.chargeoff_within_12_mths.value_counts() <- This feature is mostly zero"
   ]
  },
  {
   "cell_type": "markdown",
   "metadata": {},
   "source": [
    "These features are mostly zero and won't have any predictive power. Let's drop them"
   ]
  },
  {
   "cell_type": "code",
   "execution_count": 15,
   "metadata": {},
   "outputs": [],
   "source": [
    "df.drop(['collections_12_mths_ex_med', 'chargeoff_within_12_mths'], axis=1, inplace=True)"
   ]
  },
  {
   "cell_type": "code",
   "execution_count": 16,
   "metadata": {},
   "outputs": [
    {
     "name": "stdout",
     "output_type": "stream",
     "text": [
      "<class 'pandas.core.frame.DataFrame'>\n",
      "Int64Index: 397020 entries, 0 to 423842\n",
      "Data columns (total 29 columns):\n",
      "funded_amnt              397020 non-null int64\n",
      "term                     397020 non-null int64\n",
      "int_rate                 397020 non-null float64\n",
      "installment              397020 non-null float64\n",
      "grade                    397020 non-null object\n",
      "sub_grade                397020 non-null object\n",
      "emp_length               397020 non-null float64\n",
      "home_ownership           397020 non-null object\n",
      "annual_inc               397020 non-null float64\n",
      "verification_status      397020 non-null object\n",
      "loan_status              397020 non-null object\n",
      "purpose                  397020 non-null object\n",
      "dti                      397020 non-null float64\n",
      "delinq_2yrs              397020 non-null int64\n",
      "inq_last_6mths           397020 non-null int64\n",
      "open_acc                 397020 non-null int64\n",
      "pub_rec                  397020 non-null int64\n",
      "revol_bal                397020 non-null int64\n",
      "revol_util               397020 non-null float64\n",
      "initial_list_status      397020 non-null object\n",
      "delinq_amnt              397020 non-null int64\n",
      "tax_liens                397020 non-null int64\n",
      "credit_age               397020 non-null float64\n",
      "title_word_count         397020 non-null int64\n",
      "title_polarity           397020 non-null float64\n",
      "title_subjectivity       397020 non-null float64\n",
      "title_length             397020 non-null int64\n",
      "lti                      397020 non-null float64\n",
      "IsltiBetterThanMedian    397020 non-null int32\n",
      "dtypes: float64(10), int32(1), int64(11), object(7)\n",
      "memory usage: 89.4+ MB\n"
     ]
    }
   ],
   "source": [
    "df.info()"
   ]
  },
  {
   "cell_type": "markdown",
   "metadata": {},
   "source": [
    "##### Feature selection & Dimensionality Reduction \n",
    "\n",
    "Feature selection is critical to building a good model, for several reasons. One is that feature selection implies some sort of cardinality reduction, to impose a cutoff on the number of attributes that can be considered when building a model. This can help in mitigating overfitting by selecting only the most important attributes, reduce training time and result in better model interpretability.  Selecting the most important predictive features from a large space can be tricky.\n",
    "<br>\n",
    "<br>\n",
    "For any given data set, there are a host of supervised and unsupervised feature selection and dimensionality reduction techniques one can use. Filter, Wrapper and Embedded Methods allow us to perform supervised feature selection while PCA is a common example of unsupervised feature selection. \n",
    "<br>\n",
    "<br>\n",
    "Filter Methods consider the relationship between features and the target variable to compute the importance of features. Within filter methods, we can use F-test and variance threshold (which is actually an unsupervised technique) to select a subset of best features. I ruled out variance threshold since it removes features with variation below a certain cut-off. This might remove features which are ordinal or categorical, since such features don't vary much. Our dataset has a lot of categorical and ordinal features, and it will be risky to remove them using a technique which looks for variation among variables and does not peek into the labels.  F-Test is useful in feature selection as we get to know the significance of each feature in improving the model. F-Test checks for and only captures linear relationships between features and labels. A highly correlated feature is given higher score and less correlated features are given lower score. Using summary statistics like correlation may be a bad idea, as illustrated by Anscombe’s quartet. I decided not to use F-test for feature selection. Mutual info classification could be a promising way to perform feature selection since it does well with non-linear reltionship between feature and label. This function relies on nonparametric methods based on entropy estimation from k-nearest neighbors distances. But, I feel that such techniques rank each feature independently of the feature space, which not be appropriate for this dataset that has dependencies among features. \n",
    "<br>\n",
    "<br>\n",
    "Wrapper Methods generate models with a subsets of feature and gauge their model performances. However, the main drawback of wrapper methods is the sheer amount of models that needs to be trained. It can be computationally very expensive and decided not to use them. \n",
    "<br>\n",
    "<br>\n",
    "PCA is a form of unsupervised feature selection technique, which tries to minimize variance. The correlation of features with each principal component has nothing to do with the dependent variable. Technically, one can use PCA on categorical data (e.g. one-hot encoded data), but that would not be the correct approach.  PCA finds directions of highest variance and makes Gaussian assumptions about the data via its use of the covariance matrix. Using PCA for the given dataset which has a lots of categorical features is not meaningful. \n",
    "<br>\n",
    "<br>\n",
    "I feel that feature selection using Embedded methods would be the best approach here. Such methods perform variable selection as part of the learning procedure. The given dataset has a lot of features that are closely (linearly and non-linearly) related to each other. \n",
    "<br>\n",
    "<br>\n",
    "\n",
    "#### Encoding\n",
    "\n",
    "First we need to convert our categorical features in to numerical features, since *scikit-learn's* classification algorithms require numerical features. We could use either integer encoding or one-hot encoding to convert our categorical data to numerical data. For ordinal features like `grade`, integer encoding makes sense as there is a natural order among the feature categories. \n",
    "<br>\n",
    "<br>\n",
    "For categorical variables where no such ordinal relationship exists, the integer encoding is not enough. In fact, using this encoding and allowing the model to assume a natural ordering between categories may result in poor performance or unexpected results. For such variables, we will use one-hot encoding."
   ]
  },
  {
   "cell_type": "code",
   "execution_count": 17,
   "metadata": {},
   "outputs": [
    {
     "data": {
      "text/html": [
       "<div>\n",
       "<style scoped>\n",
       "    .dataframe tbody tr th:only-of-type {\n",
       "        vertical-align: middle;\n",
       "    }\n",
       "\n",
       "    .dataframe tbody tr th {\n",
       "        vertical-align: top;\n",
       "    }\n",
       "\n",
       "    .dataframe thead th {\n",
       "        text-align: right;\n",
       "    }\n",
       "</style>\n",
       "<table border=\"1\" class=\"dataframe\">\n",
       "  <thead>\n",
       "    <tr style=\"text-align: right;\">\n",
       "      <th></th>\n",
       "      <th>grade</th>\n",
       "      <th>sub_grade</th>\n",
       "      <th>home_ownership</th>\n",
       "      <th>verification_status</th>\n",
       "      <th>loan_status</th>\n",
       "      <th>purpose</th>\n",
       "      <th>initial_list_status</th>\n",
       "    </tr>\n",
       "  </thead>\n",
       "  <tbody>\n",
       "    <tr>\n",
       "      <th>0</th>\n",
       "      <td>B</td>\n",
       "      <td>B4</td>\n",
       "      <td>RENT</td>\n",
       "      <td>Verified</td>\n",
       "      <td>Fully Paid</td>\n",
       "      <td>debt_consolidation</td>\n",
       "      <td>f</td>\n",
       "    </tr>\n",
       "    <tr>\n",
       "      <th>1</th>\n",
       "      <td>A</td>\n",
       "      <td>A3</td>\n",
       "      <td>MORTGAGE</td>\n",
       "      <td>Source Verified</td>\n",
       "      <td>Fully Paid</td>\n",
       "      <td>debt_consolidation</td>\n",
       "      <td>w</td>\n",
       "    </tr>\n",
       "    <tr>\n",
       "      <th>2</th>\n",
       "      <td>E</td>\n",
       "      <td>E4</td>\n",
       "      <td>RENT</td>\n",
       "      <td>Verified</td>\n",
       "      <td>Fully Paid</td>\n",
       "      <td>debt_consolidation</td>\n",
       "      <td>f</td>\n",
       "    </tr>\n",
       "    <tr>\n",
       "      <th>3</th>\n",
       "      <td>B</td>\n",
       "      <td>B5</td>\n",
       "      <td>RENT</td>\n",
       "      <td>Source Verified</td>\n",
       "      <td>Fully Paid</td>\n",
       "      <td>debt_consolidation</td>\n",
       "      <td>w</td>\n",
       "    </tr>\n",
       "    <tr>\n",
       "      <th>4</th>\n",
       "      <td>B</td>\n",
       "      <td>B5</td>\n",
       "      <td>MORTGAGE</td>\n",
       "      <td>Verified</td>\n",
       "      <td>Fully Paid</td>\n",
       "      <td>credit_card</td>\n",
       "      <td>w</td>\n",
       "    </tr>\n",
       "    <tr>\n",
       "      <th>5</th>\n",
       "      <td>A</td>\n",
       "      <td>A5</td>\n",
       "      <td>MORTGAGE</td>\n",
       "      <td>Not Verified</td>\n",
       "      <td>Fully Paid</td>\n",
       "      <td>debt_consolidation</td>\n",
       "      <td>w</td>\n",
       "    </tr>\n",
       "    <tr>\n",
       "      <th>6</th>\n",
       "      <td>B</td>\n",
       "      <td>B4</td>\n",
       "      <td>RENT</td>\n",
       "      <td>Not Verified</td>\n",
       "      <td>Fully Paid</td>\n",
       "      <td>debt_consolidation</td>\n",
       "      <td>f</td>\n",
       "    </tr>\n",
       "    <tr>\n",
       "      <th>7</th>\n",
       "      <td>A</td>\n",
       "      <td>A2</td>\n",
       "      <td>MORTGAGE</td>\n",
       "      <td>Not Verified</td>\n",
       "      <td>Fully Paid</td>\n",
       "      <td>debt_consolidation</td>\n",
       "      <td>w</td>\n",
       "    </tr>\n",
       "    <tr>\n",
       "      <th>8</th>\n",
       "      <td>B</td>\n",
       "      <td>B2</td>\n",
       "      <td>RENT</td>\n",
       "      <td>Not Verified</td>\n",
       "      <td>Fully Paid</td>\n",
       "      <td>debt_consolidation</td>\n",
       "      <td>f</td>\n",
       "    </tr>\n",
       "    <tr>\n",
       "      <th>9</th>\n",
       "      <td>B</td>\n",
       "      <td>B5</td>\n",
       "      <td>RENT</td>\n",
       "      <td>Verified</td>\n",
       "      <td>Fully Paid</td>\n",
       "      <td>debt_consolidation</td>\n",
       "      <td>f</td>\n",
       "    </tr>\n",
       "  </tbody>\n",
       "</table>\n",
       "</div>"
      ],
      "text/plain": [
       "  grade sub_grade home_ownership verification_status loan_status  \\\n",
       "0     B        B4           RENT            Verified  Fully Paid   \n",
       "1     A        A3       MORTGAGE     Source Verified  Fully Paid   \n",
       "2     E        E4           RENT            Verified  Fully Paid   \n",
       "3     B        B5           RENT     Source Verified  Fully Paid   \n",
       "4     B        B5       MORTGAGE            Verified  Fully Paid   \n",
       "5     A        A5       MORTGAGE        Not Verified  Fully Paid   \n",
       "6     B        B4           RENT        Not Verified  Fully Paid   \n",
       "7     A        A2       MORTGAGE        Not Verified  Fully Paid   \n",
       "8     B        B2           RENT        Not Verified  Fully Paid   \n",
       "9     B        B5           RENT            Verified  Fully Paid   \n",
       "\n",
       "              purpose initial_list_status  \n",
       "0  debt_consolidation                   f  \n",
       "1  debt_consolidation                   w  \n",
       "2  debt_consolidation                   f  \n",
       "3  debt_consolidation                   w  \n",
       "4         credit_card                   w  \n",
       "5  debt_consolidation                   w  \n",
       "6  debt_consolidation                   f  \n",
       "7  debt_consolidation                   w  \n",
       "8  debt_consolidation                   f  \n",
       "9  debt_consolidation                   f  "
      ]
     },
     "execution_count": 17,
     "metadata": {},
     "output_type": "execute_result"
    }
   ],
   "source": [
    "df.select_dtypes(include=['object']).head(10)"
   ]
  },
  {
   "cell_type": "code",
   "execution_count": 18,
   "metadata": {},
   "outputs": [],
   "source": [
    "categorical_vars = ['home_ownership', 'verification_status', 'purpose', 'initial_list_status']\n",
    "df = pd.get_dummies(df, columns=categorical_vars)\n"
   ]
  },
  {
   "cell_type": "code",
   "execution_count": 19,
   "metadata": {},
   "outputs": [],
   "source": [
    "df.replace(to_replace={\"grade\": {\"A\": 7, \"B\": 6, \"C\": 5, \"D\": 4, \n",
    "                                       \"E\": 3, \"F\": 2, \"G\": 1}}, inplace=True)"
   ]
  },
  {
   "cell_type": "markdown",
   "metadata": {},
   "source": [
    "Let's integer encode the subgrade too. There are a totals of 35 sub-grades. We will use the same sort of encoding as for `grade`. Less risky loans get higher rank. "
   ]
  },
  {
   "cell_type": "code",
   "execution_count": 20,
   "metadata": {},
   "outputs": [],
   "source": [
    "keys = sorted(df.sub_grade.unique())\n",
    "values = list(reversed(range(1, 36)))\n",
    "df.replace(to_replace={'sub_grade': dict(zip(keys,values))}, inplace=True)"
   ]
  },
  {
   "cell_type": "markdown",
   "metadata": {},
   "source": [
    "### Training, validation & testing <a id='training'></a>\n",
    "\n",
    "We now randomly split our data in to training and testing sets. We will use the training set to train and validate our models and the independent test set to assess the classifier's performance. We split the data in a stratified fashion to make sure that the random split has similar proportion of class labels (in train and test sets) as in the full data-set."
   ]
  },
  {
   "cell_type": "code",
   "execution_count": 21,
   "metadata": {},
   "outputs": [],
   "source": [
    "mapping_dict = {'loan_status':{'Fully Paid': 0, 'Charged Off': 1}}\n",
    "df = df.replace(mapping_dict)"
   ]
  },
  {
   "cell_type": "code",
   "execution_count": 22,
   "metadata": {},
   "outputs": [],
   "source": [
    "features = df.drop(\"loan_status\", axis=1)\n",
    "labels = df[\"loan_status\"]\n",
    "\n",
    "features_train, features_test, labels_train, labels_test = train_test_split(features, labels, \n",
    "                                                                            test_size=0.2, \n",
    "                                                                            random_state=42,\n",
    "                                                                            stratify=labels) "
   ]
  },
  {
   "cell_type": "markdown",
   "metadata": {},
   "source": [
    "Instead of k-fold cross validation, we will use stratified split for validation. Stratification seeks to ensure that each fold is representative of all strata of the data. Generally this is done in a supervised way for classification and ensures each class is (approximately) equally represented across each test fold (which are of course combined in a complementary way to form training folds). Stratification is the process of rearranging the data as to ensure each fold is a good representative of the whole. To counter the imbalance in our labels, we will use a technique called Stratified Shuffle Split for validating our model. \n"
   ]
  },
  {
   "cell_type": "code",
   "execution_count": 23,
   "metadata": {},
   "outputs": [],
   "source": [
    "sss = StratifiedShuffleSplit(n_splits=5, test_size=0.2, random_state=42) # 5 splits with 80-20 split"
   ]
  },
  {
   "cell_type": "markdown",
   "metadata": {},
   "source": [
    "Feature selection and classification algorithms which depend on a notion of distance (SVM, regularized logistic regression, k-nearest neighbors) require scaling, while  tree-based algorithms (decision trees and random forests) are not affected by scaling. In such cases, not only is scaling not necessary, it can smooth out the nonlinear nature of the model.\n",
    "<br>\n",
    "<br>\n",
    "My broad line of attack for this problem is to consider two different types of feature selection and classification algorithms. We will consider two different sets of training/ testing data for each of these techniques. \n",
    "<br>\n",
    "<br>\n",
    "#### Classifers\n",
    "\n",
    "Let's start with linear classifers, which depend on notion of a distance. For such classifiers, it is important to normalize the features before performing feature selection. Instead of standardaizing with 0 mean and unit variance, we will rescale the data so that all features lie in [0, 1]. Another advantage of re-scaling over standardization is that re-scaling leaves boolean variables intact."
   ]
  },
  {
   "cell_type": "code",
   "execution_count": 24,
   "metadata": {},
   "outputs": [],
   "source": [
    "scaler = MinMaxScaler()\n",
    "scaler.fit(features_train)\n",
    "\n",
    "features_train_scaled = scaler.transform(features_train)\n",
    "features_test_scaled = scaler.transform(features_test)"
   ]
  },
  {
   "cell_type": "markdown",
   "metadata": {},
   "source": [
    "*A small note on cross-validation and workflow*\n",
    "<br>\n",
    "<br>\n",
    "In sklearn, the `GridSearchCV` class is a convenient way of pulling off  parameter selection. When fed training data, it will perform multiple training-validation splits and fit a selected algorithm or pipeline to these splits, selecting a parameter set that has the best overall performance on the validation sets. \n",
    "<br>\n",
    "<br>\n",
    "By default, `GridSearchCV` performs 3-fold cross-validation, but we can also set different cross-validation or scoring functions. We will use roc-auc as scoring function for the validation step. We will use the previously created `StratifiedShuffleSplit`  object as the cross-validation function. When we use `GridSearchCV`, the validation is performed internally. We don't use a test/train split to validate our model. The optimal model is selected by `GridSearchCV` based on the internal train/validation subsets that it creates automatically.\n",
    "<br>\n",
    "<br>\n",
    "We will also use the `Pipeline` module from `scikit-learn` which allows us to chain transformers and estimators together in such a way that one can use them as a single unit. "
   ]
  },
  {
   "cell_type": "markdown",
   "metadata": {},
   "source": [
    "##### Logistic Regression with L2 penalty"
   ]
  },
  {
   "cell_type": "code",
   "execution_count": 27,
   "metadata": {},
   "outputs": [
    {
     "name": "stdout",
     "output_type": "stream",
     "text": [
      "\n",
      "Performing grid search for Logistic Regression classifier over hyperparameters...\n",
      " LGR:\n",
      "              precision    recall  f1-score   support\n",
      "\n",
      "          0       0.89      0.68      0.77     65580\n",
      "          1       0.29      0.62      0.39     13824\n",
      "\n",
      "avg / total       0.79      0.67      0.71     79404\n",
      "\n",
      "\n"
     ]
    }
   ],
   "source": [
    "t0 = time.time()\n",
    "pipeline_lgr = Pipeline([('classify', LogisticRegression(random_state=0, \n",
    "                                                         class_weight='balanced',\n",
    "                                                         penalty='l2'))\n",
    "                        ])\n",
    "param_grid_lgr =  [{'classify__C': [0.0001, 0.001, 0.01, 0.1, 1, 10, 100, 1000]}]\n",
    "gs_lgr = GridSearchCV(pipeline_lgr, \n",
    "                      param_grid=param_grid_lgr, \n",
    "                      scoring='recall', \n",
    "                      cv=sss)\n",
    "print(\"\\nPerforming grid search for Logistic Regression classifier over hyperparameters...\")\n",
    "gs_lgr.fit(features_train_scaled, labels_train)\n",
    "    \n",
    "print(' LGR:\\n {}\\n'.format(classification_report(labels_test,\n",
    "                                                           gs_lgr.best_estimator_.predict(features_test_scaled))))\n",
    "t1 = time.time()"
   ]
  },
  {
   "cell_type": "code",
   "execution_count": 28,
   "metadata": {},
   "outputs": [
    {
     "data": {
      "text/plain": [
       "Pipeline(memory=None,\n",
       "     steps=[('classify', LogisticRegression(C=0.01, class_weight='balanced', dual=False,\n",
       "          fit_intercept=True, intercept_scaling=1, max_iter=100,\n",
       "          multi_class='ovr', n_jobs=1, penalty='l2', random_state=0,\n",
       "          solver='liblinear', tol=0.0001, verbose=0, warm_start=False))])"
      ]
     },
     "execution_count": 28,
     "metadata": {},
     "output_type": "execute_result"
    }
   ],
   "source": [
    "lgr_time = t1 - t0 \n",
    "gs_lgr.best_estimator_ # This is the model with the best mean recall"
   ]
  },
  {
   "cell_type": "code",
   "execution_count": 29,
   "metadata": {},
   "outputs": [],
   "source": [
    "fpr_lgr, tpr_lgr, _ = roc_curve(labels_test, \n",
    "                                gs_lgr.best_estimator_.decision_function(features_test_scaled),\n",
    "                                pos_label=1)\n",
    "precision_lgr, recall_lgr, _ = precision_recall_curve(labels_test, \n",
    "                                                      gs_lgr.best_estimator_.decision_function(features_test_scaled))\n",
    "roc_lgr = roc_auc_score(labels_test, gs_lgr.best_estimator_.decision_function(features_test_scaled))"
   ]
  },
  {
   "cell_type": "code",
   "execution_count": 30,
   "metadata": {},
   "outputs": [
    {
     "data": {
      "text/plain": [
       "0.7027220120251771"
      ]
     },
     "execution_count": 30,
     "metadata": {},
     "output_type": "execute_result"
    }
   ],
   "source": [
    "roc_lgr"
   ]
  },
  {
   "cell_type": "markdown",
   "metadata": {},
   "source": [
    "##### Modified Huber"
   ]
  },
  {
   "cell_type": "code",
   "execution_count": 31,
   "metadata": {},
   "outputs": [
    {
     "name": "stdout",
     "output_type": "stream",
     "text": [
      "\n",
      "Performing grid search for Modified Huber classifier over hyperparameters...\n",
      " Huber:\n",
      "              precision    recall  f1-score   support\n",
      "\n",
      "          0       0.89      0.67      0.77     65580\n",
      "          1       0.28      0.61      0.39     13824\n",
      "\n",
      "avg / total       0.78      0.66      0.70     79404\n",
      "\n",
      "\n"
     ]
    }
   ],
   "source": [
    "t0 = time.time()\n",
    "pipeline_huber = Pipeline([('classify', SGDClassifier(random_state=0, \n",
    "                                                      class_weight='balanced',\n",
    "                                                      loss='modified_huber',\n",
    "                                                      penalty='l1'))\n",
    "                        ])\n",
    "param_grid_huber =  [{'classify__alpha': [0.0001, 0.001, 0.01, 0.1, 1, 10, 100, 1000]}]\n",
    "gs_huber = GridSearchCV(pipeline_huber, \n",
    "                      param_grid=param_grid_huber, \n",
    "                      scoring='recall', \n",
    "                      cv=sss)\n",
    "print(\"\\nPerforming grid search for Modified Huber classifier over hyperparameters...\")\n",
    "gs_huber.fit(features_train_scaled, labels_train)\n",
    "    \n",
    "print(' Huber:\\n {}\\n'.format(classification_report(labels_test,\n",
    "                                                           gs_huber.best_estimator_.predict(features_test_scaled))))\n",
    "t1 = time.time()"
   ]
  },
  {
   "cell_type": "code",
   "execution_count": 32,
   "metadata": {},
   "outputs": [
    {
     "data": {
      "text/plain": [
       "Pipeline(memory=None,\n",
       "     steps=[('classify', SGDClassifier(alpha=0.01, average=False, class_weight='balanced', epsilon=0.1,\n",
       "       eta0=0.0, fit_intercept=True, l1_ratio=0.15,\n",
       "       learning_rate='optimal', loss='modified_huber', max_iter=None,\n",
       "       n_iter=None, n_jobs=1, penalty='l1', power_t=0.5, random_state=0,\n",
       "       shuffle=True, tol=None, verbose=0, warm_start=False))])"
      ]
     },
     "execution_count": 32,
     "metadata": {},
     "output_type": "execute_result"
    }
   ],
   "source": [
    "huber_time = t1 - t0 \n",
    "gs_huber.best_estimator_ "
   ]
  },
  {
   "cell_type": "code",
   "execution_count": 54,
   "metadata": {},
   "outputs": [],
   "source": [
    "fpr_huber, tpr_huber, _ = roc_curve(labels_test, \n",
    "                                gs_huber.best_estimator_.decision_function(features_test_scaled),\n",
    "                                pos_label=1)\n",
    "precision_huber, recall_huber, _ = precision_recall_curve(labels_test, \n",
    "                                                      gs_huber.best_estimator_.decision_function(features_test_scaled))\n",
    "roc_huber = roc_auc_score(labels_test, gs_huber.best_estimator_.decision_function(features_test_scaled))"
   ]
  },
  {
   "cell_type": "markdown",
   "metadata": {},
   "source": [
    "##### Random Forests"
   ]
  },
  {
   "cell_type": "code",
   "execution_count": 41,
   "metadata": {},
   "outputs": [
    {
     "name": "stdout",
     "output_type": "stream",
     "text": [
      " Random Forest:\n",
      "              precision    recall  f1-score   support\n",
      "\n",
      "          0       0.90      0.58      0.71     65580\n",
      "          1       0.26      0.71      0.38     13824\n",
      "\n",
      "avg / total       0.79      0.60      0.65     79404\n",
      "\n",
      "\n"
     ]
    }
   ],
   "source": [
    "t0 = time.time()\n",
    "pipeline_rf = Pipeline([\n",
    "    ('classify', RandomForestClassifier(random_state=0,\n",
    "                                        class_weight={0:1, 1:5}, # Ratio of default/ non-default\n",
    "                                        n_jobs=-1))\n",
    "])\n",
    "param_grid_rf = [\n",
    "    {\n",
    "        #'classify__criterion' : ['gini', 'entropy'],\n",
    "        'classify__max_depth':  [None, 5, 10, 50, 100, 150]\n",
    "        #'classify__n_estimators': [10, 20, 30, 40, 50]\n",
    "    }\n",
    "]\n",
    "gs_rf = GridSearchCV(pipeline_rf, \n",
    "                     param_grid=param_grid_rf, \n",
    "                     scoring='recall',\n",
    "                     cv=sss)\n",
    "gs_rf.fit(features_train_scaled, labels_train)\n",
    "print(' Random Forest:\\n {}\\n'.format(classification_report(labels_test,\n",
    "                                                           gs_rf.best_estimator_.predict(features_test_scaled))))\n",
    "t1 = time.time()"
   ]
  },
  {
   "cell_type": "code",
   "execution_count": 42,
   "metadata": {},
   "outputs": [
    {
     "data": {
      "text/plain": [
       "Pipeline(memory=None,\n",
       "     steps=[('classify', RandomForestClassifier(bootstrap=True, class_weight={0: 1, 1: 5},\n",
       "            criterion='gini', max_depth=5, max_features='auto',\n",
       "            max_leaf_nodes=None, min_impurity_decrease=0.0,\n",
       "            min_impurity_split=None, min_samples_leaf=1,\n",
       "            min_samples_split=2, min_weight_fraction_leaf=0.0,\n",
       "            n_estimators=10, n_jobs=-1, oob_score=False, random_state=0,\n",
       "            verbose=0, warm_start=False))])"
      ]
     },
     "execution_count": 42,
     "metadata": {},
     "output_type": "execute_result"
    }
   ],
   "source": [
    "rf_time = t1 - t0 \n",
    "gs_rf.best_estimator_ "
   ]
  },
  {
   "cell_type": "code",
   "execution_count": 43,
   "metadata": {},
   "outputs": [],
   "source": [
    "fpr_rf, tpr_rf, _ = roc_curve(labels_test, \n",
    "                                gs_rf.best_estimator_.predict_proba(features_test_scaled)[:,1], \n",
    "                                pos_label=1)\n",
    "precision_rf, recall_rf, _ = precision_recall_curve(labels_test, \n",
    "                                                      gs_rf.best_estimator_.predict_proba(features_test_scaled)[:, 1])\n",
    "roc_rf = roc_auc_score(labels_test, gs_rf.best_estimator_.predict_proba(features_test_scaled)[:, 1])"
   ]
  },
  {
   "cell_type": "code",
   "execution_count": 44,
   "metadata": {},
   "outputs": [
    {
     "data": {
      "text/plain": [
       "0.6980165769975956"
      ]
     },
     "execution_count": 44,
     "metadata": {},
     "output_type": "execute_result"
    }
   ],
   "source": [
    "roc_rf"
   ]
  },
  {
   "cell_type": "markdown",
   "metadata": {},
   "source": [
    "##### Extra trees classifier "
   ]
  },
  {
   "cell_type": "code",
   "execution_count": 48,
   "metadata": {},
   "outputs": [
    {
     "name": "stdout",
     "output_type": "stream",
     "text": [
      " Extra trees:\n",
      "              precision    recall  f1-score   support\n",
      "\n",
      "          0       0.89      0.65      0.75     65580\n",
      "          1       0.28      0.63      0.39     13824\n",
      "\n",
      "avg / total       0.79      0.65      0.69     79404\n",
      "\n",
      "\n"
     ]
    }
   ],
   "source": [
    "t0 = time.time()\n",
    "pipeline_et = Pipeline([\n",
    "    ('classify', ExtraTreesClassifier(random_state=0,\n",
    "                                        class_weight={0:1, 1:5}, # Ratio of default/ non-default\n",
    "                                        criterion='entropy',\n",
    "                                        n_jobs=-1))\n",
    "])\n",
    "param_grid_et = [\n",
    "    {\n",
    "        #'classify__criterion' : ['gini', 'entropy'],\n",
    "        'classify__max_depth':  [None, 5, 10, 50, 100, 150]\n",
    "        #'classify__n_estimators': [10, 20, 30, 40, 50]\n",
    "    }\n",
    "]\n",
    "gs_et = GridSearchCV(pipeline_et, \n",
    "                     param_grid=param_grid_et, \n",
    "                     scoring='recall',\n",
    "                     cv=sss)\n",
    "gs_et.fit(features_train_scaled, labels_train)\n",
    "print(' Extra trees:\\n {}\\n'.format(classification_report(labels_test,\n",
    "                                                           gs_et.best_estimator_.predict(features_test_scaled))))\n",
    "t1 = time.time()"
   ]
  },
  {
   "cell_type": "code",
   "execution_count": 49,
   "metadata": {},
   "outputs": [
    {
     "data": {
      "text/plain": [
       "Pipeline(memory=None,\n",
       "     steps=[('classify', ExtraTreesClassifier(bootstrap=False, class_weight={0: 1, 1: 5},\n",
       "           criterion='entropy', max_depth=None, max_features='auto',\n",
       "           max_leaf_nodes=None, min_impurity_decrease=0.0,\n",
       "           min_impurity_split=None, min_samples_leaf=1,\n",
       "           min_samples_split=2, min_weight_fraction_leaf=0.0,\n",
       "           n_estimators=10, n_jobs=-1, oob_score=False, random_state=0,\n",
       "           verbose=0, warm_start=False))])"
      ]
     },
     "execution_count": 49,
     "metadata": {},
     "output_type": "execute_result"
    }
   ],
   "source": [
    "gs_et.estimator"
   ]
  },
  {
   "cell_type": "code",
   "execution_count": 50,
   "metadata": {},
   "outputs": [
    {
     "data": {
      "text/plain": [
       "Pipeline(memory=None,\n",
       "     steps=[('classify', ExtraTreesClassifier(bootstrap=False, class_weight={0: 1, 1: 5},\n",
       "           criterion='entropy', max_depth=10, max_features='auto',\n",
       "           max_leaf_nodes=None, min_impurity_decrease=0.0,\n",
       "           min_impurity_split=None, min_samples_leaf=1,\n",
       "           min_samples_split=2, min_weight_fraction_leaf=0.0,\n",
       "           n_estimators=10, n_jobs=-1, oob_score=False, random_state=0,\n",
       "           verbose=0, warm_start=False))])"
      ]
     },
     "execution_count": 50,
     "metadata": {},
     "output_type": "execute_result"
    }
   ],
   "source": [
    "et_time = t1 - t0 \n",
    "gs_et.best_estimator_ "
   ]
  },
  {
   "cell_type": "code",
   "execution_count": 51,
   "metadata": {},
   "outputs": [],
   "source": [
    "fpr_et, tpr_et, _ = roc_curve(labels_test, \n",
    "                                gs_et.best_estimator_.predict_proba(features_test_scaled)[:,1], \n",
    "                                pos_label=1)\n",
    "precision_et, recall_et, _ = precision_recall_curve(labels_test, \n",
    "                                                      gs_et.best_estimator_.predict_proba(features_test_scaled)[:, 1])\n",
    "roc_et = roc_auc_score(labels_test, gs_et.best_estimator_.predict_proba(features_test_scaled)[:, 1])"
   ]
  },
  {
   "cell_type": "markdown",
   "metadata": {},
   "source": [
    "### Performance comparison <a id='performance'></a>\n",
    "\n",
    "Let us compare the performace of the various classifiers. Let us start by plotting the ROC-AUC curve."
   ]
  },
  {
   "cell_type": "code",
   "execution_count": 55,
   "metadata": {},
   "outputs": [
    {
     "data": {
      "image/png": "[encoded data removed]",
      "text/plain": [
       "<matplotlib.figure.Figure at 0x20c80a709e8>"
      ]
     },
     "metadata": {},
     "output_type": "display_data"
    }
   ],
   "source": [
    "plt.rcParams.update({'font.size': 18})\n",
    "plt.figure(figsize=(15, 12))\n",
    "plt.plot([0, 1], [0, 1], 'k--')\n",
    "plt.plot(fpr_et, tpr_et, linewidth=2, label='Extra trees classifier')\n",
    "plt.plot(fpr_lgr, tpr_lgr, linewidth=2, label='Logistic Ridge Regression')\n",
    "plt.plot(fpr_rf, tpr_rf, linewidth=2, label='Random Forest Classifier')\n",
    "plt.plot(fpr_huber, tpr_huber, linewidth=2, label='Huber Classifier')\n",
    "plt.xlabel('False positive rate')\n",
    "plt.ylabel('True positive rate')\n",
    "plt.title('ROC curve')\n",
    "plt.legend(loc='best', fontsize = 'large')\n",
    "plt.text(0.4, 0.9, 'AUC = 0.706')\n",
    "plt.savefig('roc_final')"
   ]
  },
  {
   "cell_type": "markdown",
   "metadata": {},
   "source": [
    "Let us now plot the precison recall curve."
   ]
  },
  {
   "cell_type": "code",
   "execution_count": 56,
   "metadata": {},
   "outputs": [
    {
     "data": {
      "image/png": "[encoded data removed]",
      "text/plain": [
       "<matplotlib.figure.Figure at 0x20c80a70198>"
      ]
     },
     "metadata": {},
     "output_type": "display_data"
    }
   ],
   "source": [
    "plt.figure(figsize=(18, 10))\n",
    "plt.plot(recall_lgr, precision_lgr, linewidth=2, label='Logistic Regression with L2 penalty')\n",
    "plt.plot(recall_huber, precision_huber, linewidth=2, label='Huber')\n",
    "plt.plot(recall_rf, precision_rf, linewidth=2, label='Random Forest classifier')\n",
    "plt.plot(recall_et, precision_et, linewidth=2, label='Extra trees classifier')\n",
    "plt.xlabel('Recall')\n",
    "plt.ylabel('Precision')\n",
    "plt.title('Precision Recall curve')\n",
    "plt.legend(loc='best', fontsize = 'large')\n",
    "plt.show()"
   ]
  },
  {
   "cell_type": "markdown",
   "metadata": {},
   "source": [
    "Here is the precision, recall and f1-score for each class. "
   ]
  },
  {
   "cell_type": "code",
   "execution_count": 63,
   "metadata": {},
   "outputs": [
    {
     "name": "stdout",
     "output_type": "stream",
     "text": [
      "Normalized confusion matrix\n",
      "[[0.67932296 0.32067704]\n",
      " [0.38469329 0.61530671]]\n"
     ]
    },
    {
     "data": {
      "image/png": "[encoded data removed]",
      "text/plain": [
       "<matplotlib.figure.Figure at 0x20c80ebc668>"
      ]
     },
     "metadata": {},
     "output_type": "display_data"
    }
   ],
   "source": [
    "def plot_confusion_matrix(cm, classes,\n",
    "                          normalize=False,\n",
    "                          title='Confusion matrix',\n",
    "                          cmap=plt.cm.Blues):\n",
    "                          #cmap=None):\n",
    "    \"\"\"\n",
    "    This function prints and plots the confusion matrix.\n",
    "    Normalization can be applied by setting `normalize=True`.\n",
    "    \"\"\"\n",
    "    if normalize:\n",
    "        cm = cm.astype('float') / cm.sum(axis=1)[:, np.newaxis]\n",
    "        print(\"Normalized confusion matrix\")\n",
    "    else:\n",
    "        print('Confusion matrix, without normalization')\n",
    "\n",
    "    print(cm)\n",
    "    \n",
    "\n",
    "    plt.imshow(cm, interpolation='nearest', cmap=cmap)\n",
    "    plt.title(title)\n",
    "    plt.colorbar()\n",
    "    tick_marks = np.arange(len(classes))\n",
    "    plt.xticks(tick_marks, classes, rotation=45)\n",
    "    plt.yticks(tick_marks, classes)\n",
    "\n",
    "    fmt = '.2f' if normalize else 'd'\n",
    "    #thresh = cm.max() / 3.\n",
    "    thresh =0.5\n",
    "    for i, j in itertools.product(range(cm.shape[0]), range(cm.shape[1])):\n",
    "        plt.text(j, i, format(cm[i, j], fmt),\n",
    "                 horizontalalignment=\"center\",\n",
    "                 color=\"black\" if cm[i, j] < thresh else \"white\")\n",
    "\n",
    "    plt.tight_layout()\n",
    "    plt.ylabel('True label')\n",
    "    plt.xlabel('Predicted label')\n",
    "\n",
    "# Compute confusion matrix\n",
    "cnf_matrix = confusion_matrix(labels_test,\n",
    "                              gs_lgr.predict(features_test_scaled))\n",
    "# Plot normalized confusion matrix\n",
    "plt.figure(figsize=(14,9))\n",
    "plot_confusion_matrix(cnf_matrix, classes=['Paid off', 'Defaulted'], normalize=True,\n",
    "                      title='Normalized confusion matrix')\n",
    "\n",
    "#plt.savefig('confusion1')"
   ]
  },
  {
   "cell_type": "code",
   "execution_count": 58,
   "metadata": {},
   "outputs": [
    {
     "name": "stdout",
     "output_type": "stream",
     "text": [
      "LGR:\n",
      "              precision    recall  f1-score   support\n",
      "\n",
      "          0       0.89      0.68      0.77     65580\n",
      "          1       0.29      0.62      0.39     13824\n",
      "\n",
      "avg / total       0.79      0.67      0.71     79404\n",
      "\n",
      "\n",
      " Huber:\n",
      "              precision    recall  f1-score   support\n",
      "\n",
      "          0       0.89      0.67      0.77     65580\n",
      "          1       0.28      0.61      0.39     13824\n",
      "\n",
      "avg / total       0.78      0.66      0.70     79404\n",
      "\n",
      "\n",
      " Random Forest:\n",
      "              precision    recall  f1-score   support\n",
      "\n",
      "          0       0.90      0.58      0.71     65580\n",
      "          1       0.26      0.71      0.38     13824\n",
      "\n",
      "avg / total       0.79      0.60      0.65     79404\n",
      "\n",
      "\n",
      " Extra trees:\n",
      "              precision    recall  f1-score   support\n",
      "\n",
      "          0       0.89      0.65      0.75     65580\n",
      "          1       0.28      0.63      0.39     13824\n",
      "\n",
      "avg / total       0.79      0.65      0.69     79404\n",
      "\n",
      "\n"
     ]
    }
   ],
   "source": [
    "print('LGR:\\n {}\\n'.format(classification_report(labels_test,\n",
    "                                                           gs_lgr.best_estimator_.predict(features_test_scaled))))\n",
    "print(' Huber:\\n {}\\n'.format(classification_report(labels_test,\n",
    "                                                           gs_huber.best_estimator_.predict(features_test_scaled))))\n",
    "\n",
    "print(' Random Forest:\\n {}\\n'.format(classification_report(labels_test,\n",
    "                                                           gs_rf.best_estimator_.predict(features_test_scaled))))\n",
    "print(' Extra trees:\\n {}\\n'.format(classification_report(labels_test,\n",
    "                                                           gs_et.best_estimator_.predict(features_test_scaled))))"
   ]
  },
  {
   "cell_type": "code",
   "execution_count": 60,
   "metadata": {},
   "outputs": [],
   "source": [
    "roc_auc_df = pd.DataFrame([\n",
    "                          ['Logistic Ridge Regression', roc_lgr, lgr_time],\n",
    "                          ['Huber classifer', roc_huber, huber_time],\n",
    "                          ['Random Forests', roc_rf, rf_time],\n",
    "                          ['Extra trees', roc_et, et_time]\n",
    "                         ], \n",
    "                         columns=['Classifier', 'Test ROC AUC', 'Training time'])"
   ]
  },
  {
   "cell_type": "code",
   "execution_count": 61,
   "metadata": {},
   "outputs": [
    {
     "data": {
      "text/html": [
       "<div>\n",
       "<style scoped>\n",
       "    .dataframe tbody tr th:only-of-type {\n",
       "        vertical-align: middle;\n",
       "    }\n",
       "\n",
       "    .dataframe tbody tr th {\n",
       "        vertical-align: top;\n",
       "    }\n",
       "\n",
       "    .dataframe thead th {\n",
       "        text-align: right;\n",
       "    }\n",
       "</style>\n",
       "<table border=\"1\" class=\"dataframe\">\n",
       "  <thead>\n",
       "    <tr style=\"text-align: right;\">\n",
       "      <th></th>\n",
       "      <th>Classifier</th>\n",
       "      <th>Test ROC AUC</th>\n",
       "      <th>Training time</th>\n",
       "    </tr>\n",
       "  </thead>\n",
       "  <tbody>\n",
       "    <tr>\n",
       "      <th>0</th>\n",
       "      <td>Logistic Ridge Regression</td>\n",
       "      <td>0.702722</td>\n",
       "      <td>536.467445</td>\n",
       "    </tr>\n",
       "    <tr>\n",
       "      <th>1</th>\n",
       "      <td>Huber classifer</td>\n",
       "      <td>0.697351</td>\n",
       "      <td>74.690947</td>\n",
       "    </tr>\n",
       "    <tr>\n",
       "      <th>2</th>\n",
       "      <td>Random Forests</td>\n",
       "      <td>0.698017</td>\n",
       "      <td>84.317155</td>\n",
       "    </tr>\n",
       "    <tr>\n",
       "      <th>3</th>\n",
       "      <td>Extra trees</td>\n",
       "      <td>0.697392</td>\n",
       "      <td>105.786773</td>\n",
       "    </tr>\n",
       "  </tbody>\n",
       "</table>\n",
       "</div>"
      ],
      "text/plain": [
       "                  Classifier  Test ROC AUC  Training time\n",
       "0  Logistic Ridge Regression      0.702722     536.467445\n",
       "1            Huber classifer      0.697351      74.690947\n",
       "2             Random Forests      0.698017      84.317155\n",
       "3                Extra trees      0.697392     105.786773"
      ]
     },
     "execution_count": 61,
     "metadata": {},
     "output_type": "execute_result"
    }
   ],
   "source": [
    "roc_auc_df"
   ]
  },
  {
   "cell_type": "markdown",
   "metadata": {},
   "source": [
    "All the classifiers perform reasonably well with respect to auc. We notice that the training time for the Huber classifer is substantially low, since it uses stochastic gradient descent.\n",
    "<br>\n",
    "<br>\n",
    "The goal of this exercise is to classify as many correct instances of canceled loans so that the bad loans are avoided. (As an investor, we also need to correctly identify the loans which will eventually be paid off, but that is a seperate problem.) Since our original data is skewed in favor of paid off loans (thereby causing an imbalance in class labels), let us also look at precision and recall of the classifiers. \n",
    "<br>\n",
    "<br>\n",
    "Within the class of defaulted loans (label 1), the ensemble classfiers have a very poor recall (percentage of class 1 labels that were correctly identified) and near perfect precision (percentage of positive predictions that were correct).  The auc for these ensemble methods is low and these classifiers perform poorly. Within the class of defaulted loans, linear classifiers significantly outperform the ensemble classifiers with respect to recall. Note that the ensemble classifiers seem to label most of the loans as approved.\n",
    "<br>\n",
    "<br>\n",
    "Overall, the performance of the classifiers is decent. Better feature selection techniques and more parameter tuning can improve the performance. Logistic Ridge Regression performs the best. "
   ]
  },
  {
   "cell_type": "markdown",
   "metadata": {},
   "source": [
    "### Conclusion <a id='conclusion'></a>\n",
    "\n",
    "Let's wrap things up. I'm reasonably satisfied with this preliminary analysis. Our recall needs more work. There are a few things that can be tried to improve the predictive performance. I list some of them here.\n",
    "<br>\n",
    "1. More work needs to be done in the data pre-processing part, and this is very crucial. A lot of decisions with respect to keeping or throwing variables were attributed to intuition or common logic. A more structured approach needs to be taken with regards to how features interact among themselves, and how different features are calculated by Lending Club. \n",
    "<br>\n",
    "<br>\n",
    "2. Seeing that there were groups of closely related variables, perhaps a grouped lasso feature selection might work better. The lasso solution is not satisfactory as it only selects individual dummy variables instead of whole factors. Moreover, the lasso solution depends on how the dummy variables are encoded. Choosing different contrasts for a categorical predictor will produce different solutions in general. Grouped lasso has the attractive property that it does variable selection at the group level.\n",
    "<br>\n",
    "<br>\n",
    "3. We performed one-hot encoding for our categorical features. Decision tree models can handle categorical variables without one-hot encoding them. However, popular implementations of decision trees (and random forests) differ as to whether they honor this fact. (sklearn pre-supposed one-hot encoding). One-hot encoding also presents two problems that are more particular to tree-based models:\n",
    "<br>\n",
    "<br>\n",
    "  (a) The resulting sparsity virtually ensures that continuous variables are assigned higher feature importance.\n",
    "    \n",
    "   (b) A single level of a categorical variable must meet a very high bar in order to be selected for splitting early in the tree building. This can degrade predictive performance. One can try using `h2o` library in python, which does not presuppose one-hot encoding, for tree based methods. \n",
    "<br>\n",
    "<br>\n",
    "4. Validate over a larger grid of hyper-parameters to get a better tuned classification model. Also optimize over the parameters of feature selection technique. Note that all of our classifiers performed poorly. A better tuned model might help. This increases the training time, so we need to think of ways to optimize and speed up the execution.\n"
   ]
  },
  {
   "cell_type": "code",
   "execution_count": null,
   "metadata": {},
   "outputs": [],
   "source": []
  }
 ],
 "metadata": {
  "kernelspec": {
   "display_name": "Python 3",
   "language": "python",
   "name": "python3"
  },
  "language_info": {
   "codemirror_mode": {
    "name": "ipython",
    "version": 3
   },
   "file_extension": ".py",
   "mimetype": "text/x-python",
   "name": "python",
   "nbconvert_exporter": "python",
   "pygments_lexer": "ipython3",
   "version": "3.6.4"
  }
 },
 "nbformat": 4,
 "nbformat_minor": 2
}
